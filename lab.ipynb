{
 "cells": [
  {
   "cell_type": "markdown",
   "metadata": {},
   "source": [
    "# Optimizavimo metodų laboratorinis darbas\n",
    "#### Elijas Dapšauskas"
   ]
  },
  {
   "cell_type": "code",
   "execution_count": 1,
   "metadata": {},
   "outputs": [
    {
     "name": "stderr",
     "output_type": "stream",
     "text": [
      "Loading required package: linprog\n",
      "Warning message:\n",
      "\"package 'linprog' was built under R version 3.5.3\"Loading required package: lpSolve\n",
      "Warning message:\n",
      "\"package 'lpSolve' was built under R version 3.5.3\""
     ]
    }
   ],
   "source": [
    "if (!require(linprog)) install.packages('linprog')\n",
    "library('linprog')\n",
    "library('lpSolve')"
   ]
  },
  {
   "cell_type": "markdown",
   "metadata": {},
   "source": [
    "# 1.\n",
    "### 1.1.\n",
    "##### 1.1.1."
   ]
  },
  {
   "cell_type": "markdown",
   "metadata": {},
   "source": [
    "$x_1$ &mdash; užsakomos minutės radijuje<br>\n",
    "$x_2$ &mdash; užsakomos minutės televizijoje\n",
    "\n",
    "$$x_1+25x_2\\rightarrow\\max$$\n",
    "$$\\begin{cases} \n",
    "15x_1 + 300x_2 \\leq 10000 \\\\\n",
    "-x_1+2x_2 \\leq 0 \\\\\n",
    "x_1 \\leq 400 \\\\\n",
    "x_1,x_2 \\geq 0\n",
    "\\end{cases}$$"
   ]
  },
  {
   "cell_type": "code",
   "execution_count": 5,
   "metadata": {},
   "outputs": [
    {
     "name": "stdout",
     "output_type": "stream",
     "text": [
      "[1] \"Televizijoje: 30 min.\"\n",
      "[1] \"Radijuje: 60 min.\"\n"
     ]
    }
   ],
   "source": [
    "radio.cost_per_min = 15\n",
    "tv.cost_per_min = 300\n",
    "\n",
    "optimizeAdBudget = function(available_budget) {\n",
    "    cvec = c(1,25)\n",
    "    Amat = rbind(c(radio.cost_per_min, tv.cost_per_min),\n",
    "                 c(-1, 2),\n",
    "                 c(1, 0))\n",
    "    bvec= c(available_budget,\n",
    "            0,\n",
    "            400)\n",
    "    solution = solveLP(cvec,bvec,Amat,maximum=T)$solution\n",
    "    return(list(radio_mins=solution[1], tv_mins=solution[2]))\n",
    "}\n",
    "\n",
    "ad_budget = optimizeAdBudget(available_budget=10000)\n",
    "print(paste('Televizijoje:', floor(ad_budget$tv_mins), 'min.'))\n",
    "print(paste('Radijuje:', floor(ad_budget$radio_mins), 'min.'))"
   ]
  },
  {
   "cell_type": "markdown",
   "metadata": {},
   "source": [
    "##### 1.1.2."
   ]
  },
  {
   "cell_type": "code",
   "execution_count": 3,
   "metadata": {},
   "outputs": [
    {
     "name": "stdout",
     "output_type": "stream",
     "text": [
      "[1] \"900 EUR\"\n"
     ]
    }
   ],
   "source": [
    "monthly_radio_budget = radio.cost_per_min * floor(ad_budget$radio_mins)\n",
    "print(paste(monthly_radio_budget, 'EUR'))"
   ]
  },
  {
   "cell_type": "markdown",
   "metadata": {},
   "source": [
    "##### 1.1.3."
   ]
  },
  {
   "cell_type": "code",
   "execution_count": 4,
   "metadata": {},
   "outputs": [
    {
     "name": "stdout",
     "output_type": "stream",
     "text": [
      "[1] \"Televizijoje: 45 min.\"\n",
      "[1] \"Radijuje: 90 min.\"\n"
     ]
    }
   ],
   "source": [
    "ad_budget = optimizeAdBudget(available_budget=15000)\n",
    "print(paste('Televizijoje:', floor(ad_budget$tv_mins), 'min.'))\n",
    "print(paste('Radijuje:', floor(ad_budget$radio_mins), 'min.'))"
   ]
  },
  {
   "cell_type": "markdown",
   "metadata": {},
   "source": [
    "# 2.\n",
    "### 2.1.\n",
    "##### 2.1.1."
   ]
  },
  {
   "cell_type": "markdown",
   "metadata": {},
   "source": [
    "$x_i$ &mdash; \"Ar stotis pastatoma $i$-ajame mieste?\"<br>\n",
    "$x_i \\in \\{0,1\\}$ &mdash; čia $1$ reiškia \"Taip\" <br>\n",
    "Apribojimai sudaromi taip, kad būtų bent vienas ($\\geq 1$) miestas su pagalbos stotimi, iš kurio galima patekti į $i$-ąjį miestą per ne daugiau 15 min. Pavyzdžiui, į pirmąjį miestą šitaip galime patekti iš 1, 3, 4 miestų, todėl apribojimas $x_1+x_3+x_4 \\geq 1$.\n",
    "\n",
    "$$x_1+x_2+x_3+x_4+x_5+x_6\\rightarrow\\min$$\n",
    "$$\\begin{cases} \n",
    "x_1+x_3+x_4 \\geq 1 \\\\\n",
    "x_2+x_4+x_6 \\geq 1 \\\\\n",
    "x_1+x_3 \\geq 1 \\\\\n",
    "x_2+x_4 \\geq 1 \\\\\n",
    "x_1+x_5+x_6 \\geq 1 \\\\\n",
    "x_2+x_5+x_6 \\geq 1\n",
    "\\end{cases}$$"
   ]
  },
  {
   "cell_type": "markdown",
   "metadata": {},
   "source": [
    "##### 2.1.2."
   ]
  },
  {
   "cell_type": "markdown",
   "metadata": {},
   "source": [
    "Iš uždavinio sąlygos:"
   ]
  },
  {
   "cell_type": "code",
   "execution_count": 14,
   "metadata": {},
   "outputs": [],
   "source": [
    "cities = 6\n",
    "distance_limit = 15\n",
    "distances = rbind(c(0,23,14,18,10,32),\n",
    "                  c(23,0,24,13,22,11),\n",
    "                  c(14,24,0,60,19,20),\n",
    "                  c(18,13,60,0,55,17),\n",
    "                  c(10,22,19,55,0,12),\n",
    "                  c(32,11,20,17,12,0))"
   ]
  },
  {
   "cell_type": "markdown",
   "metadata": {},
   "source": [
    "Išsprendžiame TPU:"
   ]
  },
  {
   "cell_type": "code",
   "execution_count": 16,
   "metadata": {},
   "outputs": [
    {
     "name": "stdout",
     "output_type": "stream",
     "text": [
      "[1] \"Mažiausias reikalingų stočių kiekis: 2\"\n",
      "[1] \"Miestai kuriose statomos stotys: 1 2\"\n"
     ]
    }
   ],
   "source": [
    "cvec = rep(1, cities)\n",
    "bvec = rep(1, cities)\n",
    "Amat = distances <= distance_limit\n",
    "solution = lp(\"min\",cvec,Amat,'>=',bvec,int.vec=1:length(cvec),all.bin=T)$solution\n",
    "\n",
    "print(paste(\"Mažiausias reikalingų stočių kiekis:\", sum(solution)))\n",
    "print(paste(c(\"Miestai kuriose statomos stotys:\", which(solution>0)), collapse=\" \"))"
   ]
  },
  {
   "cell_type": "markdown",
   "metadata": {},
   "source": [
    "### 2.2.\n",
    "##### 2.2.1."
   ]
  },
  {
   "cell_type": "markdown",
   "metadata": {},
   "source": [
    "### 2.3.\n",
    "##### 2.3.1."
   ]
  },
  {
   "cell_type": "code",
   "execution_count": 9,
   "metadata": {},
   "outputs": [],
   "source": [
    "# Visos sumos skaičiuojamos 1 tūkst. eur matu\n",
    "K = 1e4\n",
    "profit = c(50, 100, 200, 300, 80, 200)\n",
    "expenses = c(1000, 2000, 3000, 5000, 1500, 3500)"
   ]
  },
  {
   "cell_type": "code",
   "execution_count": 10,
   "metadata": {},
   "outputs": [
    {
     "name": "stdout",
     "output_type": "stream",
     "text": [
      "[1] \"Vykdomi projektai: 2 3 4\"\n"
     ]
    }
   ],
   "source": [
    "cvec = profit\n",
    "Amat = rbind(expenses)\n",
    "bvec = K\n",
    "\n",
    "result = lp(\"max\",cvec,Amat,'<=',bvec,int.vec=1:length(cvec),all.bin=T)\n",
    "print(paste(c(\"Vykdomi projektai:\", which(result$solution>0)), collapse=\" \"))"
   ]
  },
  {
   "cell_type": "markdown",
   "metadata": {},
   "source": [
    "##### 2.3.2."
   ]
  },
  {
   "cell_type": "code",
   "execution_count": 11,
   "metadata": {},
   "outputs": [
    {
     "name": "stdout",
     "output_type": "stream",
     "text": [
      "[1] \"Vykdomi projektai: 3 4 6\"\n",
      "[1] \"Projektų vykdymo koeficientai: 0 0 1 1 0 0.571428571428572\"\n",
      "[1] \"Jautrumo analizė. Nuo: -1e+30 -1e+30 171.428571428571 285.714285714286 -1e+30 186.666666666667\"\n",
      "[1] \"Jautrumo analizė. Iki: 57.1428571428571 114.285714285714 1e+30 1e+30 85.7142857142857 210\"\n"
     ]
    }
   ],
   "source": [
    "cvec = profit\n",
    "Amat = rbind(expenses,\n",
    "             c(1,0,0,0,0,0),\n",
    "             c(0,1,0,0,0,0),\n",
    "             c(0,0,1,0,0,0),\n",
    "             c(0,0,0,1,0,0),\n",
    "             c(0,0,0,0,1,0),\n",
    "             c(0,0,0,0,0,1))\n",
    "bvec = c(K,1,1,1,1,1,1)\n",
    "\n",
    "result = lp(\"max\",cvec,Amat,'<=',bvec,compute.sens=T)\n",
    "print(paste(c(\"Vykdomi projektai:\", which(result$solution>0)), collapse=\" \"))\n",
    "print(paste(c(\"Projektų vykdymo koeficientai:\", result$solution), collapse=\" \"))\n",
    "print(paste(c(\"Jautrumo analizė. Nuo:\", result$sens.coef.from), collapse=\" \"))\n",
    "print(paste(c(\"Jautrumo analizė. Iki:\", result$sens.coef.to), collapse=\" \"))"
   ]
  },
  {
   "cell_type": "markdown",
   "metadata": {},
   "source": [
    "### 2.4.\n",
    "##### 2.4.1."
   ]
  },
  {
   "cell_type": "code",
   "execution_count": 12,
   "metadata": {},
   "outputs": [
    {
     "name": "stdout",
     "output_type": "stream",
     "text": [
      "[1] \"Mažiausias reikalingų sargų kiekis: 4\"\n",
      "[1] \"Tarpduriai kuriuose statomi sargai: 1 4 6 7\"\n"
     ]
    }
   ],
   "source": [
    "door_count = 8\n",
    "room_count = 8\n",
    "bvec = rep(1,room_count)\n",
    "cvec = rep(1,door_count)\n",
    "Amat = rbind(c(1,1,0,0,0,0,0,0),\n",
    "             c(1,0,1,0,0,0,0,0),\n",
    "             c(0,1,0,1,0,0,0,0),\n",
    "             c(0,0,0,1,1,0,0,0),\n",
    "             c(0,0,1,0,1,1,0,0),\n",
    "             c(0,0,0,0,0,0,1,0),\n",
    "             c(0,0,0,0,0,0,1,1),\n",
    "             c(0,0,0,0,0,1,0,1))\n",
    "solution = lp(\"min\",cvec,Amat,'>=',bvec,int.vec=1:length(cvec),all.bin=TRUE)$solution\n",
    "print(paste(\"Mažiausias reikalingų sargų kiekis:\", sum(solution)))\n",
    "print(paste(c(\"Tarpduriai kuriuose statomi sargai:\", which(solution>0)), collapse=\" \"))"
   ]
  },
  {
   "cell_type": "markdown",
   "metadata": {},
   "source": [
    "### 2.5."
   ]
  },
  {
   "cell_type": "markdown",
   "metadata": {},
   "source": [
    "Žymėsime tarpdurius skaičiais nuo 1 iki 8, eilės tvarka iš viršaus į apačią, tada iš kairės į dešinę. $x_i \\in \\{0,1\\}$ žymėsime, ar pastatyti sargą į $i$-ąjį tarpdurį. Apribojimus sudarysime taip, kad bent viename kambariui priklausančiui tarpduryje būtų pastatytas sargas, pavyzdžiui viršutiniam kairiajam kambariui priklauso tarpduriai 1 ir 2, todėl turėsime apribojimą $x_1 + x_2 \\geq 1$. Analogiškai sudarysime apribojimus ir likusiems kambariams. Kambariai surašomi tokia tvarka: iš viršaus į apačią, tada - iš kairės į dešinę."
   ]
  },
  {
   "cell_type": "code",
   "execution_count": 12,
   "metadata": {},
   "outputs": [
    {
     "name": "stdout",
     "output_type": "stream",
     "text": [
      "[1] \"Mažiausias reikalingų sargų kiekis: 4\"\n",
      "[1] \"Tarpduriai kuriuose statomi sargai: 1 4 6 7\"\n"
     ]
    }
   ],
   "source": [
    "door_count = 8\n",
    "room_count = 8\n",
    "bvec = rep(1,room_count)\n",
    "cvec = rep(1,door_count)\n",
    "Amat = rbind(c(1,1,0,0,0,0,0,0),\n",
    "             c(1,0,1,0,0,0,0,0),\n",
    "             c(0,1,0,1,0,0,0,0),\n",
    "             c(0,0,0,1,1,0,0,0),\n",
    "             c(0,0,1,0,1,1,0,0),\n",
    "             c(0,0,0,0,0,0,1,0),\n",
    "             c(0,0,0,0,0,0,1,1),\n",
    "             c(0,0,0,0,0,1,0,1))\n",
    "solution = lp(\"min\",cvec,Amat,'>=',bvec,int.vec=1:length(cvec),all.bin=TRUE)$solution\n",
    "print(paste(\"Mažiausias reikalingų sargų kiekis:\", sum(solution)))\n",
    "print(paste(c(\"Tarpduriai kuriuose statomi sargai:\", which(solution>0)), collapse=\" \"))"
   ]
  },
  {
   "cell_type": "code",
   "execution_count": 13,
   "metadata": {},
   "outputs": [
    {
     "ename": "ERROR",
     "evalue": "Error in is.data.frame(objective.in): object 'f.obj' not found\n",
     "output_type": "error",
     "traceback": [
      "Error in is.data.frame(objective.in): object 'f.obj' not found\nTraceback:\n",
      "1. lp(\"max\", f.obj, f.con, f.dir, f.rhs, int.vec = 1:4, all.bin = TRUE)",
      "2. is.data.frame(objective.in)"
     ]
    }
   ],
   "source": [
    "# Final value (z)\n",
    "lp(\"max\",f.obj,f.con,f.dir,f.rhs,int.vec=1:4,all.bin=TRUE)\n",
    "\n",
    "# Variables final values\n",
    "lp(\"max\",f.obj,f.con,f.dir,f.rhs,int.vec=1:4,all.bin=TRUE)$solution\n",
    "\n",
    "# Sensitivities\n",
    "lp(\"max\",f.obj,f.con,f.dir,f.rhs,int.vec=1:4,compute.sens=TRUE,all.bin=TRUE)$sens.coef.from\n",
    "lp(\"max\",f.obj,f.con,f.dir,f.rhs,int.vec=1:4,compute.sens=TRUE,all.bin=TRUE)$sens.coef.to\n",
    "\n",
    "# Dual Values (first dual of the constraints and then dual of the variables)\n",
    "# Duals of the constraints and variables are mixed\n",
    "lp(\"max\",f.obj,f.con,f.dir,f.rhs,int.vec=1:4,compute.sens=TRUE,all.bin=TRUE)$duals\n",
    "\n",
    "# Duals lower and upper limits:\n",
    "lp(\"max\",f.obj,f.con,f.dir,f.rhs,int.vec=1:4,compute.sens=TRUE,all.bin=TRUE)$duals.from\n",
    "lp(\"max\",f.obj,f.con,f.dir,f.rhs,int.vec=1:4,compute.sens=TRUE,all.bin=TRUE)$duals.to"
   ]
  },
  {
   "cell_type": "markdown",
   "metadata": {},
   "source": [
    "# set.seed(1029)\n",
    "\n",
    "n=10\n",
    "t = c( 1: n)\n",
    "t\n",
    "\n",
    "x = rnorm (n, 0, 4)\n",
    "x\n",
    "\n",
    "\n",
    "ep = runif (n, -5, 5)\n",
    "ep\n",
    "vid = mean(ep)\n",
    "vid\n",
    "var = sqrt( var(ep))\n",
    "var\n",
    "\n",
    "# sukuriame musu a ir b\n",
    "\n",
    "a = 2\n",
    "b = 5\n",
    "\n",
    "y = a + b*x +ep\n",
    "y\n",
    "plot(y)\n",
    "\n",
    "plot(x,y)\n",
    "abline(a, b, col = 2)\n",
    "\n",
    "v = replicate (n, 1)\n",
    "v\n",
    "\n",
    "XX = cbind (v, x)\n",
    "XX\n",
    "\n",
    "betahat = solve (t(XX) %*% XX) %*% (t(XX) %*% y)\n",
    "betahat \n",
    "\n",
    "ahat = betahat [1]\n",
    "ahat\n",
    "\n",
    "bhat = betahat [2]\n",
    "bhat\n",
    "\n",
    "lm1 = lm ( y ~ x)\n",
    "lm1\n",
    "summary(lm1)\n",
    "\n",
    "plot(x,y)\n",
    "abline(a, b, col = 2) # musu sugeneruotos reiksmes a ir b\n",
    "abline(betahat, col = 3) # kompiuterio sugeneruotos reiksmes ahat ir bhat\n",
    "\n",
    "\n",
    "# ANTRA DALIS ---------------------------\n",
    "\n",
    "p = 1/2\n",
    "z <- rbinom (n, 1, prob = p)\n",
    "z\n",
    "\n",
    "z1 = 1-z\n",
    "z1\n",
    "\n",
    "XX1 = cbind (z1, z1*x, z, z*x)\n",
    "XX1\n",
    "\n",
    "#susikuriame naujas reiksmes\n",
    "\n",
    "a0 = -10\n",
    "b0 = -1\n",
    "a0\n",
    "b0\n",
    "\n",
    "beta = c( a0, b0, a, b)\n",
    "beta\n",
    "\n",
    "Y = XX1 %*% beta + ep\n",
    "Y\n",
    "yy=Y\n",
    "\n",
    "plot(x,yy)\n",
    "lines (x[z==0], yy[z==0], col=2, type = \"p\") \n",
    "lines(x[z==1], yy[z==1], col=3, type = \"p\")\n",
    "abline(a,b, col=3)\n",
    "abline(a0, b0, col=2)\n",
    "\n",
    "\n",
    "#kompiuterio reiksmes\n",
    "lm2 = lm ( yy ~ -1+z1+I(z1*x)+z+I(z*x))\n",
    "lm2\n",
    "\n",
    "lm3 = lm ( yy ~ -1+z1+x+z)\n",
    "lm3\n",
    "\n",
    "plot(x,yy)\n",
    "lines (x[z==0], yy[z==0], col=2, type = \"p\") \n",
    "lines(x[z==1], yy[z==1], col=3, type = \"p\")\n",
    "abline(lm3$coeff[1] ,lm3$coeff[2], col=3)\n",
    "abline(lm3$coeff[3], lm3$coeff[2], col=2)\n",
    "\n",
    "lm4 = lm ( yy ~ 1+I(z1*x)+I(z*x))\n",
    "lm4\n",
    "plot(x,yy)\n",
    "lines (x[z==0], yy[z==0], col=2, type = \"p\") \n",
    "lines(x[z==1], yy[z==1], col=3, type = \"p\")\n",
    "abline(lm4$coeff[1] ,lm4$coeff[2], col=3)\n",
    "abline(lm4$coeff[1], lm4$coeff[3], col=2)\n",
    "lm4$coeff\n",
    "\n",
    "\n",
    "\n",
    "cia 2 labor\n",
    "\n",
    "\n",
    "\n",
    "set.seed(1013)\n",
    "n = 4\n",
    "\n",
    "beta1 = runif (1, 0, 5)\n",
    "beta1\n",
    "\n",
    "beta2 = runif (1, (1/3), 3)\n",
    "beta2\n",
    "\n",
    "\n",
    "t = c(0 : n, n+1, n+6) #cia bus t, o t reiksme nuo 0 iki n\n",
    "t #n+1 bus 5, n+6 bus 10\n",
    "\n",
    "vienas = replicate (n+1,1) #n+1 nes turime 0\n",
    "vienas\n",
    "\n",
    "#plano matrica\n",
    "XX = cbind (vienas, t)\n",
    "XX\n",
    "\n",
    "beta = c(beta1, beta2)\n",
    "beta\n",
    "\n",
    "Y=c(round(XX%*%beta, 0, NA, NA)\n",
    "Y\n",
    "\n",
    "length(Y)\n",
    "length(t)\n",
    "\n",
    "plot(t,Y)\n",
    "\n",
    "# kai k=0\n",
    "a0 <- lm (Y ~ 1)\n",
    "a0\n",
    "abline(a0)\n",
    "points(t, predict(a0), type=\"b\", col=2, lwd=2)\n",
    "\n",
    "# kai k=1\n",
    "a <- lm (Y ~ 1 + t)\n",
    "a\n",
    "plot(t, Y)\n",
    "abline(a, col=3)\n",
    "points(t, predict(a), type=\"b\", col=2, lwd=2)\n",
    "\n",
    "#kai k=2\n",
    "aa <- lm (Y ~ 1 + t +I(t^2))\n",
    "aa\n",
    "plot(t, Y)\n",
    "points(t, predict(aa), type=\"b\", col=2, lwd=2)\n",
    "\n",
    "\n",
    "# kai k=3\n",
    "aaa <- lm (Y ~ 1 + t +I(t^2) + I(t^3))\n",
    "aaa\n",
    "plot(t, Y)\n",
    "points(t, predict(aaa), type=\"b\", col=2, lwd=2)\n",
    "\n",
    "# kai k=4\n",
    "aaaa <- lm (Y ~ 1 + t +I(t^2) + I(t^3) + I(t^4))\n",
    "aaaa\n",
    "plot(t, Y)\n",
    "points(t, predict(aaaa), type=\"b\", col=2, lwd=2)\n",
    "\n",
    "# b <- function(t) {\n",
    "# curve\n",
    "\n",
    "\n",
    "#------------------------;\n",
    "t = c(0 : n, n+1)\n",
    "t\n",
    "\n",
    "#k =0\n",
    "polynomial(5, a0, 0)"
   ]
  }
 ],
 "metadata": {
  "kernelspec": {
   "display_name": "R",
   "language": "R",
   "name": "ir"
  },
  "language_info": {
   "codemirror_mode": "r",
   "file_extension": ".r",
   "mimetype": "text/x-r-source",
   "name": "R",
   "pygments_lexer": "r",
   "version": "3.5.2"
  }
 },
 "nbformat": 4,
 "nbformat_minor": 2
}
