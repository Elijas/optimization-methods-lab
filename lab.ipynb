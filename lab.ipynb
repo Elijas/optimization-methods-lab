{
 "cells": [
  {
   "cell_type": "markdown",
   "metadata": {},
   "source": [
    "# Optimizavimo metodų laboratorinis darbas\n",
    "#### Elijas Dapšauskas TSf-17"
   ]
  },
  {
   "cell_type": "code",
   "execution_count": 2,
   "metadata": {},
   "outputs": [
    {
     "name": "stderr",
     "output_type": "stream",
     "text": [
      "Loading required package: linprog\n",
      "Warning message:\n",
      "\"package 'linprog' was built under R version 3.5.3\"Loading required package: lpSolve\n",
      "Warning message:\n",
      "\"package 'lpSolve' was built under R version 3.5.3\""
     ]
    }
   ],
   "source": [
    "if (!require(linprog)) install.packages('linprog')\n",
    "library('linprog')\n",
    "library('lpSolve')"
   ]
  },
  {
   "cell_type": "markdown",
   "metadata": {},
   "source": [
    "# 1.\n",
    "### 1.1.\n",
    "##### 1.1.1."
   ]
  },
  {
   "cell_type": "markdown",
   "metadata": {},
   "source": [
    "$x_1$ &mdash; užsakomos minutės radijuje<br>\n",
    "$x_2$ &mdash; užsakomos minutės televizijoje\n",
    "\n",
    "$$x_1+25x_2\\rightarrow\\max$$\n",
    "$$\\begin{cases} \n",
    "15x_1 + 300x_2 \\leq 10000 \\\\\n",
    "-x_1+2x_2 \\leq 0 \\\\\n",
    "x_1 \\leq 400 \\\\\n",
    "x_1,x_2 \\geq 0\n",
    "\\end{cases}$$"
   ]
  },
  {
   "cell_type": "code",
   "execution_count": 3,
   "metadata": {},
   "outputs": [
    {
     "name": "stdout",
     "output_type": "stream",
     "text": [
      "[1] \"Televizijoje: 30 min.\"\n",
      "[1] \"Radijuje: 60 min.\"\n"
     ]
    }
   ],
   "source": [
    "radio.cost_per_min = 15\n",
    "tv.cost_per_min = 300\n",
    "\n",
    "optimizeAdBudget = function(available_budget) {\n",
    "    cvec = c(1,25)\n",
    "    Amat = rbind(c(radio.cost_per_min, tv.cost_per_min),\n",
    "                 c(-1, 2),\n",
    "                 c(1, 0))\n",
    "    bvec= c(available_budget,\n",
    "            0,\n",
    "            400)\n",
    "    solution = solveLP(cvec,bvec,Amat,maximum=T)$solution\n",
    "    return(list(radio_mins=solution[1], tv_mins=solution[2]))\n",
    "}\n",
    "\n",
    "ad_budget = optimizeAdBudget(available_budget=10000)\n",
    "print(paste('Televizijoje:', floor(ad_budget$tv_mins), 'min.'))\n",
    "print(paste('Radijuje:', floor(ad_budget$radio_mins), 'min.'))"
   ]
  },
  {
   "cell_type": "markdown",
   "metadata": {},
   "source": [
    "##### 1.1.2."
   ]
  },
  {
   "cell_type": "code",
   "execution_count": 4,
   "metadata": {},
   "outputs": [
    {
     "name": "stdout",
     "output_type": "stream",
     "text": [
      "[1] \"900 EUR\"\n"
     ]
    }
   ],
   "source": [
    "monthly_radio_budget = radio.cost_per_min * floor(ad_budget$radio_mins)\n",
    "print(paste(monthly_radio_budget, 'EUR'))"
   ]
  },
  {
   "cell_type": "markdown",
   "metadata": {},
   "source": [
    "##### 1.1.3."
   ]
  },
  {
   "cell_type": "code",
   "execution_count": 5,
   "metadata": {},
   "outputs": [
    {
     "name": "stdout",
     "output_type": "stream",
     "text": [
      "[1] \"Televizijoje: 45 min.\"\n",
      "[1] \"Radijuje: 90 min.\"\n"
     ]
    }
   ],
   "source": [
    "ad_budget = optimizeAdBudget(available_budget=15000)\n",
    "print(paste('Televizijoje:', floor(ad_budget$tv_mins), 'min.'))\n",
    "print(paste('Radijuje:', floor(ad_budget$radio_mins), 'min.'))"
   ]
  },
  {
   "cell_type": "markdown",
   "metadata": {},
   "source": [
    "# 2.\n",
    "### 2.1.\n",
    "##### 2.1.1."
   ]
  },
  {
   "cell_type": "markdown",
   "metadata": {},
   "source": [
    "$x_i$ &mdash; \"Ar stotis pastatoma $i$-ajame mieste?\"<br>\n",
    "$x_i \\in \\{0,1\\}$ &mdash; čia $1$ reiškia \"Taip\" <br>\n",
    "Apribojimai sudaromi taip, kad būtų bent vienas ($\\geq 1$) miestas su pagalbos stotimi, iš kurio galima patekti į $i$-ąjį miestą per ne daugiau 15 min. Pavyzdžiui, į pirmąjį miestą šitaip galime patekti iš 1, 3, 4 miestų, todėl apribojimas $x_1+x_3+x_4 \\geq 1$.\n",
    "\n",
    "$$x_1+x_2+x_3+x_4+x_5+x_6\\rightarrow\\min$$\n",
    "$$\\begin{cases} \n",
    "x_1+x_3+x_4 \\geq 1 \\\\\n",
    "x_2+x_4+x_6 \\geq 1 \\\\\n",
    "x_1+x_3 \\geq 1 \\\\\n",
    "x_2+x_4 \\geq 1 \\\\\n",
    "x_1+x_5+x_6 \\geq 1 \\\\\n",
    "x_2+x_5+x_6 \\geq 1\n",
    "\\end{cases}$$"
   ]
  },
  {
   "cell_type": "markdown",
   "metadata": {},
   "source": [
    "##### 2.1.2."
   ]
  },
  {
   "cell_type": "markdown",
   "metadata": {},
   "source": [
    "Iš uždavinio sąlygos:"
   ]
  },
  {
   "cell_type": "code",
   "execution_count": 6,
   "metadata": {},
   "outputs": [],
   "source": [
    "cities = 6\n",
    "distance_limit = 15\n",
    "distances = rbind(c(0,23,14,18,10,32),\n",
    "                  c(23,0,24,13,22,11),\n",
    "                  c(14,24,0,60,19,20),\n",
    "                  c(18,13,60,0,55,17),\n",
    "                  c(10,22,19,55,0,12),\n",
    "                  c(32,11,20,17,12,0))"
   ]
  },
  {
   "cell_type": "markdown",
   "metadata": {},
   "source": [
    "Išsprendžiame TPU:"
   ]
  },
  {
   "cell_type": "code",
   "execution_count": 7,
   "metadata": {},
   "outputs": [
    {
     "name": "stderr",
     "output_type": "stream",
     "text": [
      "Warning message in rbind(const.mat, const.dir.num, const.rhs):\n",
      "\"number of columns of result is not a multiple of vector length (arg 3)\""
     ]
    },
    {
     "name": "stdout",
     "output_type": "stream",
     "text": [
      "[1] \"Mažiausias reikalingų stočių kiekis: 1\"\n",
      "[1] \"Miestai kuriose statomos stotys: 2\"\n"
     ]
    }
   ],
   "source": [
    "cvec = rep(1, cities)\n",
    "bvec = rep(1, cities)\n",
    "Amat = rbind(c(radio.cost_per_min, tv.cost_per_min),\n",
    "                 c(-1, 2),\n",
    "                 c(1, 0))\n",
    "solution = lp(\"min\", cvec, Amat, '>=', bvec, int.vec=1:length(cvec), all.bin=T)$solution\n",
    "\n",
    "print(paste(\"Mažiausias reikalingų stočių kiekis:\", sum(solution)))\n",
    "print(paste(c(\"Miestai kuriose statomos stotys:\", which(solution>0)), collapse=\" \"))"
   ]
  },
  {
   "cell_type": "markdown",
   "metadata": {},
   "source": [
    "### 2.2.\n",
    "##### 2.2.1."
   ]
  },
  {
   "cell_type": "markdown",
   "metadata": {},
   "source": [
    "Turime mašinų ilgių vektorių\n",
    "$$c = (4, 4.5, 5, 4.1, 2.4, 5.2, 3.7, 3.5, 3.2, 4.5, 2.3, 3.3, 3.8, 4.6, 3)$$"
   ]
  },
  {
   "cell_type": "markdown",
   "metadata": {},
   "source": [
    "Turime dvi gatvės puses, jas žymėsime \"$0$\" ir \"$1$\".<br>\n",
    "$x_i$ reikšmė rodo, kurioje gatvės pusėje statoma i-oji mašina: $$x_i \\in \\{0,1\\}$$.<br>"
   ]
  },
  {
   "cell_type": "markdown",
   "metadata": {},
   "source": [
    "Sakykime, kad užstatyta gatvės pusė \"$1$\" visada yra ne trumpesnė nei užstatyta gatvės pusė \"$0$\".\n",
    "Tai galime įgyvendinti apribojimu\n",
    "$$\\sum_i c_i x_i \\geqslant \\frac{1}{2}\\sum_i c_i$$"
   ]
  },
  {
   "cell_type": "markdown",
   "metadata": {},
   "source": [
    "Tikslo funkcija laikysime, kad ilgesnioji pusė būtų kiek įmanoma trumpesnė. Kadangi ilgesnioji pusė pas mus yra \"$1$\", tuomet minimizuosime tikslo funkciją: $$\\min \\sum_i c_i x_i$$"
   ]
  },
  {
   "cell_type": "markdown",
   "metadata": {},
   "source": [
    "##### 2.2.2."
   ]
  },
  {
   "cell_type": "code",
   "execution_count": 8,
   "metadata": {},
   "outputs": [
    {
     "name": "stdout",
     "output_type": "stream",
     "text": [
      "[1] \"Mašinų numeriai vienoje gatvės pusėje: 5 6 9 10 11 12 14 15\"\n",
      "[1] \"Užstatytas ilgis vienoje gatvės pusėje: 28.5\"\n",
      "[1] \"Mašinų numeriai antroje gatvės pusėje: 1 2 3 4 7 8 13\"\n",
      "[1] \"Užstatytas ilgis antroje gatvės pusėje: 28.6\"\n"
     ]
    }
   ],
   "source": [
    "lengths = c(4, 4.5, 5, 4.1, 2.4, 5.2, 3.7, 3.5, 3.2, 4.5, 2.3, 3.3, 3.8, 4.6, 3)\n",
    "cvec = lengths\n",
    "bvec = sum(lengths) / 2\n",
    "Amat = rbind(c(lengths))\n",
    "solution = lp(\"min\", cvec, Amat, '>=', bvec, int.vec=1:length(cvec), all.bin=T)$solution\n",
    "print(paste(c(\"Mašinų numeriai vienoje gatvės pusėje:\", which(solution==0)), collapse=\" \"))\n",
    "print(paste(\"Užstatytas ilgis vienoje gatvės pusėje:\", sum(lengths[which(solution==0)])))\n",
    "print(paste(c(\"Mašinų numeriai antroje gatvės pusėje:\", which(solution==1)), collapse=\" \"))\n",
    "print(paste(\"Užstatytas ilgis antroje gatvės pusėje:\", sum(lengths[which(solution==1)])))"
   ]
  },
  {
   "cell_type": "markdown",
   "metadata": {},
   "source": [
    "### 2.3.\n",
    "##### 2.3.1."
   ]
  },
  {
   "cell_type": "code",
   "execution_count": 9,
   "metadata": {},
   "outputs": [],
   "source": [
    "# Visos sumos skaičiuojamos 1 tūkst. eur matu\n",
    "K = 1e4\n",
    "profit = c(50, 100, 200, 300, 80, 200)\n",
    "expenses = c(1000, 2000, 3000, 5000, 1500, 3500)"
   ]
  },
  {
   "cell_type": "code",
   "execution_count": 10,
   "metadata": {},
   "outputs": [
    {
     "name": "stdout",
     "output_type": "stream",
     "text": [
      "[1] \"Vykdomi projektai: 2 3 4\"\n"
     ]
    }
   ],
   "source": [
    "cvec = profit\n",
    "Amat = rbind(expenses)\n",
    "bvec = K\n",
    "\n",
    "result = lp(\"max\",cvec,Amat,'<=',bvec,int.vec=1:length(cvec),all.bin=T)\n",
    "print(paste(c(\"Vykdomi projektai:\", which(result$solution>0)), collapse=\" \"))"
   ]
  },
  {
   "cell_type": "markdown",
   "metadata": {},
   "source": [
    "##### 2.3.2."
   ]
  },
  {
   "cell_type": "code",
   "execution_count": 11,
   "metadata": {},
   "outputs": [
    {
     "name": "stdout",
     "output_type": "stream",
     "text": [
      "[1] \"Vykdomi projektai: 3 4 6\"\n",
      "[1] \"Projektų vykdymo koeficientai: 0 0 1 1 0 0.571428571428572\"\n",
      "[1] \"Jautrumo analizė. Nuo: -1e+30 -1e+30 171.428571428571 285.714285714286 -1e+30 186.666666666667\"\n",
      "[1] \"Jautrumo analizė. Iki: 57.1428571428571 114.285714285714 1e+30 1e+30 85.7142857142857 210\"\n"
     ]
    }
   ],
   "source": [
    "cvec = profit\n",
    "Amat = rbind(expenses,\n",
    "             c(1,0,0,0,0,0),\n",
    "             c(0,1,0,0,0,0),\n",
    "             c(0,0,1,0,0,0),\n",
    "             c(0,0,0,1,0,0),\n",
    "             c(0,0,0,0,1,0),\n",
    "             c(0,0,0,0,0,1))\n",
    "bvec = c(K,1,1,1,1,1,1)\n",
    "\n",
    "result = lp(\"max\",cvec,Amat,'<=',bvec,compute.sens=T)\n",
    "print(paste(c(\"Vykdomi projektai:\", which(result$solution>0)), collapse=\" \"))\n",
    "print(paste(c(\"Projektų vykdymo koeficientai:\", result$solution), collapse=\" \"))\n",
    "print(paste(c(\"Jautrumo analizė. Nuo:\", result$sens.coef.from), collapse=\" \"))\n",
    "print(paste(c(\"Jautrumo analizė. Iki:\", result$sens.coef.to), collapse=\" \"))"
   ]
  },
  {
   "cell_type": "markdown",
   "metadata": {},
   "source": [
    "### 2.4."
   ]
  },
  {
   "cell_type": "markdown",
   "metadata": {},
   "source": [
    "Kadangi kompanijos neturi apribojimų, kiek minimaliai ar maksimaliai skambučių galime pirkti, todėl visas minutes tiesiog pirksime pigiausiai paslaugą siūlančioje kompanijoje."
   ]
  },
  {
   "cell_type": "code",
   "execution_count": 12,
   "metadata": {},
   "outputs": [
    {
     "name": "stdout",
     "output_type": "stream",
     "text": [
      "I kompanija: 66 $\n",
      "II kompanija: 67 $\n",
      "III kompanija: 62 $\n",
      "\n",
      "Pigiausia kompanija, kurioje galime pirkti visas minutes:  3 \n",
      "Paslaugų kaina:  62 $"
     ]
    }
   ],
   "source": [
    "mins = 200\n",
    "cost = c(16+.25*mins, 25+.21*mins, 18+.22*mins)\n",
    "\n",
    "cat(\"I kompanija:\", cost[1], \"$\\n\")\n",
    "cat(\"II kompanija:\", cost[2], \"$\\n\")\n",
    "cat(\"III kompanija:\", cost[3], \"$\\n\\n\")\n",
    "\n",
    "cat(\"Pigiausia kompanija, kurioje galime pirkti visas minutes: \", which(min(cost)==cost), \"\\n\")\n",
    "cat(\"Paslaugų kaina: \", min(cost), \"$\")"
   ]
  },
  {
   "cell_type": "markdown",
   "metadata": {},
   "source": [
    "### 2.5."
   ]
  },
  {
   "cell_type": "markdown",
   "metadata": {},
   "source": [
    "Žymėsime tarpdurius skaičiais nuo 1 iki 8, eilės tvarka iš viršaus į apačią, tada iš kairės į dešinę. $x_i \\in \\{0,1\\}$ žymėsime, ar pastatyti sargą į $i$-ąjį tarpdurį. Apribojimus sudarysime taip, kad bent viename kambariui priklausančiui tarpduryje būtų pastatytas sargas, pavyzdžiui viršutiniam kairiajam kambariui priklauso tarpduriai 1 ir 2, todėl turėsime apribojimą $x_1 + x_2 \\geq 1$. Analogiškai sudarysime apribojimus ir likusiems kambariams. Kambariai surašomi tokia tvarka: iš viršaus į apačią, tada - iš kairės į dešinę."
   ]
  },
  {
   "cell_type": "code",
   "execution_count": 13,
   "metadata": {},
   "outputs": [
    {
     "name": "stdout",
     "output_type": "stream",
     "text": [
      "[1] \"Mažiausias reikalingų sargų kiekis: 4\"\n",
      "[1] \"Tarpduriai kuriuose statomi sargai: 1 4 6 7\"\n"
     ]
    }
   ],
   "source": [
    "door_count = 8\n",
    "room_count = 8\n",
    "bvec = rep(1,room_count)\n",
    "cvec = rep(1,door_count)\n",
    "Amat = rbind(c(1,1,0,0,0,0,0,0),\n",
    "             c(1,0,1,0,0,0,0,0),\n",
    "             c(0,1,0,1,0,0,0,0),\n",
    "             c(0,0,0,1,1,0,0,0),\n",
    "             c(0,0,1,0,1,1,0,0),\n",
    "             c(0,0,0,0,0,0,1,0),\n",
    "             c(0,0,0,0,0,0,1,1),\n",
    "             c(0,0,0,0,0,1,0,1))\n",
    "solution = lp(\"min\",cvec,Amat,'>=',bvec,int.vec=1:length(cvec),all.bin=TRUE)$solution\n",
    "print(paste(\"Mažiausias reikalingų sargų kiekis:\", sum(solution)))\n",
    "print(paste(c(\"Tarpduriai kuriuose statomi sargai:\", which(solution>0)), collapse=\" \"))"
   ]
  },
  {
   "cell_type": "markdown",
   "metadata": {},
   "source": [
    "### 2.6.\n",
    "(Uždavinio atlikti nebūtina)"
   ]
  },
  {
   "cell_type": "markdown",
   "metadata": {},
   "source": [
    "# 3.\n",
    "### 3.1."
   ]
  },
  {
   "cell_type": "markdown",
   "metadata": {},
   "source": [
    "$x_1$ - Produktui 1, Operacijos 1 skirtos minutės<br>\n",
    "$x_2$ - Produktui 2, Operacijos 1 skirtos minutės<br>\n",
    "$x_3$ - Produktui 1, Operacijos 2 skirtos minutės<br>\n",
    "$x_4$ - Produktui 2, Operacijos 2 skirtos minutės<br><br>\n",
    "\n",
    "Turėsime šiuos apribojimus:\n",
    "\n",
    "- Per dieną pagaminti bent 80 produkto 1 ir 60 produkto 2 (4 TPU apribojimai)\n",
    "- Pabaigti pradėtus produktus (2 TPU apribojimai)\n",
    "- Operacijai 1 ir Operacijai 2 skirti bent po 8h per dieną (2 TPU apribojimai)"
   ]
  },
  {
   "cell_type": "code",
   "execution_count": 32,
   "metadata": {
    "scrolled": true
   },
   "outputs": [
    {
     "name": "stdout",
     "output_type": "stream",
     "text": [
      "Viršvalandžiai operacijai 1:  576 min\n",
      "Viršvalandžiai operacijai 2:  120 min\n"
     ]
    }
   ],
   "source": [
    "p1o1 = 5 # Produktas 1, Operacija 1\n",
    "p2o1 = 3\n",
    "p1o2 = 6\n",
    "p2o2 = 2\n",
    "o1.mins.min = 8 * 60\n",
    "o2.mins.min = 8 * 60\n",
    "p1.quantity.min = 80\n",
    "p2.quantity.min = 60\n",
    "cvec = c(p1o1, p2o1, p1o2, p2o2)\n",
    "Amat = rbind(c(1, 0, 0, 0),\n",
    "             c(0, 1, 0, 0),\n",
    "             c(0, 0, 1, 0),\n",
    "             c(0, 0, 0, 1),\n",
    "             c(p1o1, 0,    -p1o2, 0),\n",
    "             c(0,    p2o1, 0,     -p2o2),\n",
    "             c(1, 1, 0, 0),\n",
    "             c(0, 0, 1, 1))\n",
    "bvec = c(p1o1 * p1.quantity.min,\n",
    "         p2o1 * p1.quantity.min,\n",
    "         p1o2 * p1.quantity.min,\n",
    "         p2o2 * p2.quantity.min,\n",
    "         0,\n",
    "         0,\n",
    "         o1.mins.min,\n",
    "         o2.mins.min)\n",
    "costrvec = c('>=',\n",
    "             '>=',\n",
    "             '>=',\n",
    "             '>=',\n",
    "             '=',\n",
    "             '=',\n",
    "             '>=',\n",
    "             '>=')\n",
    "solution = lp(\"min\",cvec,Amat,costrvec,bvec,int.vec=1:length(cvec))$solution\n",
    "operation1.mins = solution[1] + solution[3]\n",
    "operation2.mins = solution[2] + solution[4]\n",
    "cat('Viršvalandžiai operacijai 1: ', operation1.mins - o1.mins.min, 'min\\n')\n",
    "cat('Viršvalandžiai operacijai 2: ', operation2.mins - o2.mins.min, 'min\\n')"
   ]
  }
 ],
 "metadata": {
  "kernelspec": {
   "display_name": "R",
   "language": "R",
   "name": "ir"
  },
  "language_info": {
   "codemirror_mode": "r",
   "file_extension": ".r",
   "mimetype": "text/x-r-source",
   "name": "R",
   "pygments_lexer": "r",
   "version": "3.5.2"
  }
 },
 "nbformat": 4,
 "nbformat_minor": 2
}
